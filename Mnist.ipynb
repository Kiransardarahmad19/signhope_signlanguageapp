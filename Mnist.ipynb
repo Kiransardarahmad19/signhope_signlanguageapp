{
  "nbformat": 4,
  "nbformat_minor": 0,
  "metadata": {
    "colab": {
      "provenance": [],
      "authorship_tag": "ABX9TyOoaeA8CkPkSRLkMNLxvTDs",
      "include_colab_link": true
    },
    "kernelspec": {
      "name": "python3",
      "display_name": "Python 3"
    },
    "language_info": {
      "name": "python"
    }
  },
  "cells": [
    {
      "cell_type": "markdown",
      "metadata": {
        "id": "view-in-github",
        "colab_type": "text"
      },
      "source": [
        "<a href=\"https://colab.research.google.com/github/Kiransardarahmad19/signhope_signlanguageapp/blob/main/Mnist.ipynb\" target=\"_parent\"><img src=\"https://colab.research.google.com/assets/colab-badge.svg\" alt=\"Open In Colab\"/></a>"
      ]
    },
    {
      "cell_type": "code",
      "source": [
        "from google.colab import drive"
      ],
      "metadata": {
        "id": "RZHo-dZDDqsr"
      },
      "execution_count": 1,
      "outputs": []
    },
    {
      "cell_type": "code",
      "source": [
        "\n",
        "drive.mount('/content/drive')\n"
      ],
      "metadata": {
        "colab": {
          "base_uri": "https://localhost:8080/"
        },
        "id": "WF62eV-3DtHN",
        "outputId": "a893f3f1-6aec-496c-c86d-48b1bfa56914"
      },
      "execution_count": 2,
      "outputs": [
        {
          "output_type": "stream",
          "name": "stdout",
          "text": [
            "Mounted at /content/drive\n"
          ]
        }
      ]
    },
    {
      "cell_type": "code",
      "source": [
        "#path of dataset from drive to colab\n",
        "\n",
        "dataset_folder_path = '/content/drive/My Drive/Fyp_dataset/mnist/'"
      ],
      "metadata": {
        "id": "PSECZKO-GeX_"
      },
      "execution_count": 3,
      "outputs": []
    },
    {
      "cell_type": "code",
      "execution_count": 4,
      "metadata": {
        "id": "t8OxZxQpA4QJ"
      },
      "outputs": [],
      "source": [
        "import matplotlib.pyplot as plt\n",
        "import seaborn as sns\n",
        "from keras.models import Sequential\n",
        "from keras.layers import Dense, Conv2D, MaxPool2D, Flatten, Dropout, BatchNormalization\n",
        "from keras.preprocessing.image import ImageDataGenerator\n",
        "from sklearn.model_selection import train_test_split\n",
        "from sklearn.metrics import classification_report, confusion_matrix\n",
        "import pandas as pd\n",
        "\n",
        "# Define the dataset folder path\n",
        "dataset_folder_path = '/content/drive/My Drive/Fyp_dataset/mnist/'\n",
        "\n",
        "# Update the file paths to include the dataset folder path\n",
        "train_df = pd.read_csv('/content/drive/My Drive/Fyp_dataset/mnist/sign_mnist_train/sign_mnist_train.csv')\n",
        "test_df = pd.read_csv('/content/drive/My Drive/Fyp_dataset/mnist/sign_mnist_test/sign_mnist_test.csv')\n",
        "\n",
        "y_train = train_df['label']\n",
        "y_test = test_df['label']\n",
        "del train_df['label']\n",
        "del test_df['label']\n",
        "\n",
        "from sklearn.preprocessing import LabelBinarizer\n",
        "label_binarizer = LabelBinarizer()\n",
        "y_train = label_binarizer.fit_transform(y_train)\n",
        "y_test = label_binarizer.fit_transform(y_test)\n",
        "\n",
        "x_train = train_df.values\n",
        "x_test = test_df.values\n",
        "\n",
        "x_train = x_train / 255\n",
        "x_test = x_test / 255\n",
        "\n",
        "x_train = x_train.reshape(-1, 28, 28, 1)\n",
        "x_test = x_test.reshape(-1, 28, 28, 1)\n"
      ]
    },
    {
      "cell_type": "code",
      "source": [
        "datagen = ImageDataGenerator(\n",
        "        featurewise_center=False,\n",
        "        samplewise_center=False,\n",
        "        featurewise_std_normalization=False,\n",
        "        samplewise_std_normalization=False,\n",
        "        zca_whitening=False,\n",
        "        rotation_range=10,\n",
        "        zoom_range = 0.1,\n",
        "        width_shift_range=0.1,\n",
        "        height_shift_range=0.1,\n",
        "        horizontal_flip=False,\n",
        "        vertical_flip=False)\n",
        "\n",
        "datagen.fit(x_train)"
      ],
      "metadata": {
        "id": "TqNMnEJyIkmD"
      },
      "execution_count": 5,
      "outputs": []
    },
    {
      "cell_type": "code",
      "source": [
        "model = Sequential()\n",
        "model.add(Conv2D(75 , (3,3) , strides = 1 , padding = 'same' , activation = 'relu' , input_shape = (28,28,1)))\n",
        "model.add(BatchNormalization())\n",
        "model.add(MaxPool2D((2,2) , strides = 2 , padding = 'same'))\n",
        "model.add(Conv2D(50 , (3,3) , strides = 1 , padding = 'same' , activation = 'relu'))\n",
        "model.add(Dropout(0.2))\n",
        "model.add(BatchNormalization())\n",
        "model.add(MaxPool2D((2,2) , strides = 2 , padding = 'same'))\n",
        "model.add(Conv2D(25 , (3,3) , strides = 1 , padding = 'same' , activation = 'relu'))\n",
        "model.add(BatchNormalization())\n",
        "model.add(MaxPool2D((2,2) , strides = 2 , padding = 'same'))\n",
        "model.add(Flatten())\n",
        "model.add(Dense(units = 512 , activation = 'relu'))\n",
        "model.add(Dropout(0.3))\n",
        "model.add(Dense(units = 24 , activation = 'softmax'))"
      ],
      "metadata": {
        "id": "vGT8iu9HIqNE"
      },
      "execution_count": 6,
      "outputs": []
    },
    {
      "cell_type": "code",
      "source": [
        "import matplotlib.pyplot as plt\n",
        "\n",
        "# Model compilation, summary, and training\n",
        "model.compile(optimizer='adam', loss='categorical_crossentropy', metrics=['accuracy'])\n",
        "model.summary()\n",
        "\n",
        "history = model.fit(datagen.flow(x_train, y_train, batch_size=128), epochs=5, validation_data=(x_test, y_test))\n",
        "\n",
        "# Saving the trained model to Google Drive\n",
        "model.save('/content/drive/My Drive/Fyp_dataset/mnist/smnist.h5')\n",
        "\n",
        "# Plotting accuracy graph\n",
        "plt.plot(history.history['accuracy'], label='Training Accuracy')\n",
        "plt.plot(history.history['val_accuracy'], label='Validation Accuracy')\n",
        "plt.title('Training and Validation Accuracy')\n",
        "plt.xlabel('Epochs')\n",
        "plt.ylabel('Accuracy')\n",
        "plt.legend()\n",
        "plt.show()\n"
      ],
      "metadata": {
        "colab": {
          "base_uri": "https://localhost:8080/",
          "height": 1000
        },
        "id": "QV2-VcDnIyjJ",
        "outputId": "dfcb9c90-271f-4164-c54d-52b2ba783f8e"
      },
      "execution_count": 7,
      "outputs": [
        {
          "output_type": "stream",
          "name": "stdout",
          "text": [
            "Model: \"sequential\"\n",
            "_________________________________________________________________\n",
            " Layer (type)                Output Shape              Param #   \n",
            "=================================================================\n",
            " conv2d (Conv2D)             (None, 28, 28, 75)        750       \n",
            "                                                                 \n",
            " batch_normalization (Batch  (None, 28, 28, 75)        300       \n",
            " Normalization)                                                  \n",
            "                                                                 \n",
            " max_pooling2d (MaxPooling2  (None, 14, 14, 75)        0         \n",
            " D)                                                              \n",
            "                                                                 \n",
            " conv2d_1 (Conv2D)           (None, 14, 14, 50)        33800     \n",
            "                                                                 \n",
            " dropout (Dropout)           (None, 14, 14, 50)        0         \n",
            "                                                                 \n",
            " batch_normalization_1 (Bat  (None, 14, 14, 50)        200       \n",
            " chNormalization)                                                \n",
            "                                                                 \n",
            " max_pooling2d_1 (MaxPoolin  (None, 7, 7, 50)          0         \n",
            " g2D)                                                            \n",
            "                                                                 \n",
            " conv2d_2 (Conv2D)           (None, 7, 7, 25)          11275     \n",
            "                                                                 \n",
            " batch_normalization_2 (Bat  (None, 7, 7, 25)          100       \n",
            " chNormalization)                                                \n",
            "                                                                 \n",
            " max_pooling2d_2 (MaxPoolin  (None, 4, 4, 25)          0         \n",
            " g2D)                                                            \n",
            "                                                                 \n",
            " flatten (Flatten)           (None, 400)               0         \n",
            "                                                                 \n",
            " dense (Dense)               (None, 512)               205312    \n",
            "                                                                 \n",
            " dropout_1 (Dropout)         (None, 512)               0         \n",
            "                                                                 \n",
            " dense_1 (Dense)             (None, 24)                12312     \n",
            "                                                                 \n",
            "=================================================================\n",
            "Total params: 264049 (1.01 MB)\n",
            "Trainable params: 263749 (1.01 MB)\n",
            "Non-trainable params: 300 (1.17 KB)\n",
            "_________________________________________________________________\n",
            "Epoch 1/5\n",
            "215/215 [==============================] - 130s 575ms/step - loss: 1.0610 - accuracy: 0.6644 - val_loss: 3.9126 - val_accuracy: 0.1043\n",
            "Epoch 2/5\n",
            "215/215 [==============================] - 119s 550ms/step - loss: 0.2106 - accuracy: 0.9307 - val_loss: 1.5238 - val_accuracy: 0.5231\n",
            "Epoch 3/5\n",
            "215/215 [==============================] - 113s 523ms/step - loss: 0.1063 - accuracy: 0.9661 - val_loss: 0.2263 - val_accuracy: 0.9154\n",
            "Epoch 4/5\n",
            "215/215 [==============================] - 115s 533ms/step - loss: 0.0615 - accuracy: 0.9803 - val_loss: 0.0392 - val_accuracy: 0.9862\n",
            "Epoch 5/5\n",
            "215/215 [==============================] - 113s 525ms/step - loss: 0.0478 - accuracy: 0.9852 - val_loss: 0.0465 - val_accuracy: 0.9817\n"
          ]
        },
        {
          "output_type": "stream",
          "name": "stderr",
          "text": [
            "/usr/local/lib/python3.10/dist-packages/keras/src/engine/training.py:3103: UserWarning: You are saving your model as an HDF5 file via `model.save()`. This file format is considered legacy. We recommend using instead the native Keras format, e.g. `model.save('my_model.keras')`.\n",
            "  saving_api.save_model(\n"
          ]
        },
        {
          "output_type": "display_data",
          "data": {
            "text/plain": [
              "<Figure size 640x480 with 1 Axes>"
            ],
            "image/png": "[encoded data removed]"
          },
          "metadata": {}
        }
      ]
    },
    {
      "cell_type": "code",
      "source": [
        "import matplotlib.pyplot as plt\n",
        "\n",
        "# Model compilation, summary, and training\n",
        "model.compile(optimizer='adam', loss='categorical_crossentropy', metrics=['accuracy'])\n",
        "model.summary()\n",
        "\n",
        "history = model.fit(datagen.flow(x_train, y_train, batch_size=128), epochs=20, validation_data=(x_test, y_test))\n",
        "\n",
        "# Saving the trained model to Google Drive\n",
        "model.save('/content/drive/My Drive/Fyp_dataset/mnist/smnist.h5')\n",
        "\n",
        "# Plotting accuracy graph\n",
        "plt.plot(history.history['accuracy'], label='Training Accuracy')\n",
        "plt.plot(history.history['val_accuracy'], label='Validation Accuracy')\n",
        "plt.title('Training and Validation Accuracy')\n",
        "plt.xlabel('Epochs')\n",
        "plt.ylabel('Accuracy')\n",
        "plt.legend()\n",
        "plt.show()"
      ],
      "metadata": {
        "colab": {
          "base_uri": "https://localhost:8080/",
          "height": 1000
        },
        "id": "po7xqzKJv0P6",
        "outputId": "bf2489b5-7789-454e-a6da-aa0d38eba096"
      },
      "execution_count": 8,
      "outputs": [
        {
          "output_type": "stream",
          "name": "stdout",
          "text": [
            "Model: \"sequential\"\n",
            "_________________________________________________________________\n",
            " Layer (type)                Output Shape              Param #   \n",
            "=================================================================\n",
            " conv2d (Conv2D)             (None, 28, 28, 75)        750       \n",
            "                                                                 \n",
            " batch_normalization (Batch  (None, 28, 28, 75)        300       \n",
            " Normalization)                                                  \n",
            "                                                                 \n",
            " max_pooling2d (MaxPooling2  (None, 14, 14, 75)        0         \n",
            " D)                                                              \n",
            "                                                                 \n",
            " conv2d_1 (Conv2D)           (None, 14, 14, 50)        33800     \n",
            "                                                                 \n",
            " dropout (Dropout)           (None, 14, 14, 50)        0         \n",
            "                                                                 \n",
            " batch_normalization_1 (Bat  (None, 14, 14, 50)        200       \n",
            " chNormalization)                                                \n",
            "                                                                 \n",
            " max_pooling2d_1 (MaxPoolin  (None, 7, 7, 50)          0         \n",
            " g2D)                                                            \n",
            "                                                                 \n",
            " conv2d_2 (Conv2D)           (None, 7, 7, 25)          11275     \n",
            "                                                                 \n",
            " batch_normalization_2 (Bat  (None, 7, 7, 25)          100       \n",
            " chNormalization)                                                \n",
            "                                                                 \n",
            " max_pooling2d_2 (MaxPoolin  (None, 4, 4, 25)          0         \n",
            " g2D)                                                            \n",
            "                                                                 \n",
            " flatten (Flatten)           (None, 400)               0         \n",
            "                                                                 \n",
            " dense (Dense)               (None, 512)               205312    \n",
            "                                                                 \n",
            " dropout_1 (Dropout)         (None, 512)               0         \n",
            "                                                                 \n",
            " dense_1 (Dense)             (None, 24)                12312     \n",
            "                                                                 \n",
            "=================================================================\n",
            "Total params: 264049 (1.01 MB)\n",
            "Trainable params: 263749 (1.01 MB)\n",
            "Non-trainable params: 300 (1.17 KB)\n",
            "_________________________________________________________________\n",
            "Epoch 1/20\n",
            "215/215 [==============================] - 118s 540ms/step - loss: 0.0543 - accuracy: 0.9823 - val_loss: 0.0490 - val_accuracy: 0.9805\n",
            "Epoch 2/20\n",
            "215/215 [==============================] - 118s 548ms/step - loss: 0.0434 - accuracy: 0.9860 - val_loss: 0.1319 - val_accuracy: 0.9533\n",
            "Epoch 3/20\n",
            "215/215 [==============================] - 119s 552ms/step - loss: 0.0337 - accuracy: 0.9891 - val_loss: 0.2253 - val_accuracy: 0.9254\n",
            "Epoch 4/20\n",
            "215/215 [==============================] - 113s 525ms/step - loss: 0.0320 - accuracy: 0.9895 - val_loss: 0.5186 - val_accuracy: 0.8342\n",
            "Epoch 5/20\n",
            "215/215 [==============================] - 114s 531ms/step - loss: 0.0316 - accuracy: 0.9895 - val_loss: 0.5837 - val_accuracy: 0.8479\n",
            "Epoch 6/20\n",
            "215/215 [==============================] - 114s 530ms/step - loss: 0.0265 - accuracy: 0.9909 - val_loss: 0.0532 - val_accuracy: 0.9808\n",
            "Epoch 7/20\n",
            "215/215 [==============================] - 113s 525ms/step - loss: 0.0172 - accuracy: 0.9945 - val_loss: 0.0510 - val_accuracy: 0.9833\n",
            "Epoch 8/20\n",
            "215/215 [==============================] - 114s 530ms/step - loss: 0.0152 - accuracy: 0.9950 - val_loss: 0.0092 - val_accuracy: 0.9969\n",
            "Epoch 9/20\n",
            "215/215 [==============================] - 117s 545ms/step - loss: 0.0207 - accuracy: 0.9932 - val_loss: 0.1615 - val_accuracy: 0.9516\n",
            "Epoch 10/20\n",
            "215/215 [==============================] - 114s 531ms/step - loss: 0.0150 - accuracy: 0.9948 - val_loss: 0.0289 - val_accuracy: 0.9880\n",
            "Epoch 11/20\n",
            "215/215 [==============================] - 117s 544ms/step - loss: 0.0193 - accuracy: 0.9938 - val_loss: 0.1098 - val_accuracy: 0.9681\n",
            "Epoch 12/20\n",
            "215/215 [==============================] - 113s 525ms/step - loss: 0.0157 - accuracy: 0.9950 - val_loss: 0.0566 - val_accuracy: 0.9824\n",
            "Epoch 13/20\n",
            "215/215 [==============================] - 118s 547ms/step - loss: 0.0132 - accuracy: 0.9955 - val_loss: 0.2527 - val_accuracy: 0.9342\n",
            "Epoch 14/20\n",
            "215/215 [==============================] - 111s 516ms/step - loss: 0.0172 - accuracy: 0.9942 - val_loss: 0.0367 - val_accuracy: 0.9869\n",
            "Epoch 15/20\n",
            "215/215 [==============================] - 118s 548ms/step - loss: 0.0196 - accuracy: 0.9940 - val_loss: 0.0681 - val_accuracy: 0.9803\n",
            "Epoch 16/20\n",
            "215/215 [==============================] - 114s 529ms/step - loss: 0.0170 - accuracy: 0.9945 - val_loss: 0.0734 - val_accuracy: 0.9750\n",
            "Epoch 17/20\n",
            "215/215 [==============================] - 110s 511ms/step - loss: 0.0111 - accuracy: 0.9966 - val_loss: 0.0764 - val_accuracy: 0.9732\n",
            "Epoch 18/20\n",
            "215/215 [==============================] - 113s 528ms/step - loss: 0.0119 - accuracy: 0.9964 - val_loss: 0.1280 - val_accuracy: 0.9678\n",
            "Epoch 19/20\n",
            "215/215 [==============================] - 114s 530ms/step - loss: 0.0161 - accuracy: 0.9949 - val_loss: 0.0402 - val_accuracy: 0.9877\n",
            "Epoch 20/20\n",
            "215/215 [==============================] - 113s 527ms/step - loss: 0.0180 - accuracy: 0.9941 - val_loss: 0.1018 - val_accuracy: 0.9773\n"
          ]
        },
        {
          "output_type": "display_data",
          "data": {
            "text/plain": [
              "<Figure size 640x480 with 1 Axes>"
            ],
            "image/png": "[encoded data removed]"
          },
          "metadata": {}
        }
      ]
    },
    {
      "cell_type": "code",
      "source": [
        "model.save('/content/drive/My Drive/Fyp_dataset/mnist/smnist.h5')"
      ],
      "metadata": {
        "id": "9seRchgGa909"
      },
      "execution_count": 10,
      "outputs": []
    },
    {
      "cell_type": "code",
      "source": [
        "pip install mediapipe"
      ],
      "metadata": {
        "colab": {
          "base_uri": "https://localhost:8080/"
        },
        "id": "Uific05CThLb",
        "outputId": "67a92199-afb4-46b6-dfca-6a662ff86ef4"
      },
      "execution_count": 11,
      "outputs": [
        {
          "output_type": "stream",
          "name": "stdout",
          "text": [
            "Requirement already satisfied: mediapipe in /usr/local/lib/python3.10/dist-packages (0.10.9)\n",
            "Requirement already satisfied: absl-py in /usr/local/lib/python3.10/dist-packages (from mediapipe) (1.4.0)\n",
            "Requirement already satisfied: attrs>=19.1.0 in /usr/local/lib/python3.10/dist-packages (from mediapipe) (23.1.0)\n",
            "Requirement already satisfied: flatbuffers>=2.0 in /usr/local/lib/python3.10/dist-packages (from mediapipe) (23.5.26)\n",
            "Requirement already satisfied: matplotlib in /usr/local/lib/python3.10/dist-packages (from mediapipe) (3.7.1)\n",
            "Requirement already satisfied: numpy in /usr/local/lib/python3.10/dist-packages (from mediapipe) (1.23.5)\n",
            "Requirement already satisfied: opencv-contrib-python in /usr/local/lib/python3.10/dist-packages (from mediapipe) (4.8.0.76)\n",
            "Requirement already satisfied: protobuf<4,>=3.11 in /usr/local/lib/python3.10/dist-packages (from mediapipe) (3.20.3)\n",
            "Requirement already satisfied: sounddevice>=0.4.4 in /usr/local/lib/python3.10/dist-packages (from mediapipe) (0.4.6)\n",
            "Requirement already satisfied: CFFI>=1.0 in /usr/local/lib/python3.10/dist-packages (from sounddevice>=0.4.4->mediapipe) (1.16.0)\n",
            "Requirement already satisfied: contourpy>=1.0.1 in /usr/local/lib/python3.10/dist-packages (from matplotlib->mediapipe) (1.2.0)\n",
            "Requirement already satisfied: cycler>=0.10 in /usr/local/lib/python3.10/dist-packages (from matplotlib->mediapipe) (0.12.1)\n",
            "Requirement already satisfied: fonttools>=4.22.0 in /usr/local/lib/python3.10/dist-packages (from matplotlib->mediapipe) (4.47.0)\n",
            "Requirement already satisfied: kiwisolver>=1.0.1 in /usr/local/lib/python3.10/dist-packages (from matplotlib->mediapipe) (1.4.5)\n",
            "Requirement already satisfied: packaging>=20.0 in /usr/local/lib/python3.10/dist-packages (from matplotlib->mediapipe) (23.2)\n",
            "Requirement already satisfied: pillow>=6.2.0 in /usr/local/lib/python3.10/dist-packages (from matplotlib->mediapipe) (9.4.0)\n",
            "Requirement already satisfied: pyparsing>=2.3.1 in /usr/local/lib/python3.10/dist-packages (from matplotlib->mediapipe) (3.1.1)\n",
            "Requirement already satisfied: python-dateutil>=2.7 in /usr/local/lib/python3.10/dist-packages (from matplotlib->mediapipe) (2.8.2)\n",
            "Requirement already satisfied: pycparser in /usr/local/lib/python3.10/dist-packages (from CFFI>=1.0->sounddevice>=0.4.4->mediapipe) (2.21)\n",
            "Requirement already satisfied: six>=1.5 in /usr/local/lib/python3.10/dist-packages (from python-dateutil>=2.7->matplotlib->mediapipe) (1.16.0)\n"
          ]
        }
      ]
    },
    {
      "cell_type": "code",
      "source": [
        "import os\n",
        "os.environ['TF_CPP_MIN_LOG_LEVEL'] = '3'\n",
        "import tensorflow as tf\n",
        "import cv2\n",
        "import mediapipe as mp\n",
        "from keras.models import load_model\n",
        "import numpy as np\n",
        "import time"
      ],
      "metadata": {
        "id": "D222huODTJK9"
      },
      "execution_count": 12,
      "outputs": []
    },
    {
      "cell_type": "code",
      "source": [
        "model = load_model('smnist.h5')\n",
        "\n",
        "mphands = mp.solutions.hands\n",
        "hands = mphands.Hands()\n",
        "mp_drawing = mp.solutions.drawing_utils\n",
        "\n",
        "cap = cv2.VideoCapture(0)\n",
        "_, frame = cap.read()\n",
        "h, w, c = frame.shape\n",
        "\n",
        "analysisframe = ''\n",
        "letterpred = ['A', 'B', 'C', 'D', 'E', 'F', 'G', 'H', 'I', 'K', 'L', 'M', 'N', 'O', 'P', 'Q', 'R', 'S', 'T', 'U', 'V', 'W', 'X', 'Y']\n"
      ],
      "metadata": {
        "colab": {
          "base_uri": "https://localhost:8080/",
          "height": 245
        },
        "id": "9PV4JNtBTrA7",
        "outputId": "e856c1a3-d900-450d-9dc9-cf284bc992e6"
      },
      "execution_count": 13,
      "outputs": [
        {
          "output_type": "error",
          "ename": "AttributeError",
          "evalue": "ignored",
          "traceback": [
            "\u001b[0;31m---------------------------------------------------------------------------\u001b[0m",
            "\u001b[0;31mAttributeError\u001b[0m                            Traceback (most recent call last)",
            "\u001b[0;32m<ipython-input-13-23ecc4607a15>\u001b[0m in \u001b[0;36m<cell line: 9>\u001b[0;34m()\u001b[0m\n\u001b[1;32m      7\u001b[0m \u001b[0mcap\u001b[0m \u001b[0;34m=\u001b[0m \u001b[0mcv2\u001b[0m\u001b[0;34m.\u001b[0m\u001b[0mVideoCapture\u001b[0m\u001b[0;34m(\u001b[0m\u001b[0;36m0\u001b[0m\u001b[0;34m)\u001b[0m\u001b[0;34m\u001b[0m\u001b[0;34m\u001b[0m\u001b[0m\n\u001b[1;32m      8\u001b[0m \u001b[0m_\u001b[0m\u001b[0;34m,\u001b[0m \u001b[0mframe\u001b[0m \u001b[0;34m=\u001b[0m \u001b[0mcap\u001b[0m\u001b[0;34m.\u001b[0m\u001b[0mread\u001b[0m\u001b[0;34m(\u001b[0m\u001b[0;34m)\u001b[0m\u001b[0;34m\u001b[0m\u001b[0;34m\u001b[0m\u001b[0m\n\u001b[0;32m----> 9\u001b[0;31m \u001b[0mh\u001b[0m\u001b[0;34m,\u001b[0m \u001b[0mw\u001b[0m\u001b[0;34m,\u001b[0m \u001b[0mc\u001b[0m \u001b[0;34m=\u001b[0m \u001b[0mframe\u001b[0m\u001b[0;34m.\u001b[0m\u001b[0mshape\u001b[0m\u001b[0;34m\u001b[0m\u001b[0;34m\u001b[0m\u001b[0m\n\u001b[0m\u001b[1;32m     10\u001b[0m \u001b[0;34m\u001b[0m\u001b[0m\n\u001b[1;32m     11\u001b[0m \u001b[0manalysisframe\u001b[0m \u001b[0;34m=\u001b[0m \u001b[0;34m''\u001b[0m\u001b[0;34m\u001b[0m\u001b[0;34m\u001b[0m\u001b[0m\n",
            "\u001b[0;31mAttributeError\u001b[0m: 'NoneType' object has no attribute 'shape'"
          ]
        }
      ]
    },
    {
      "cell_type": "code",
      "source": [
        "while True:\n",
        "    _, frame = cap.read()\n",
        "\n",
        "    k = cv2.waitKey(1)\n",
        "    if k%256 == 27:\n",
        "        # ESC pressed\n",
        "        print(\"Escape hit, closing...\")\n",
        "        break\n",
        "\n",
        "    framergb = cv2.cvtColor(frame, cv2.COLOR_BGR2RGB)\n",
        "    result = hands.process(framergb)\n",
        "    hand_landmarks = result.multi_hand_landmarks\n",
        "    if hand_landmarks:\n",
        "        for handLMs in hand_landmarks:\n",
        "            x_max = 0\n",
        "            y_max = 0\n",
        "            x_min = w\n",
        "            y_min = h\n",
        "            for lm in handLMs.landmark:\n",
        "                x, y = int(lm.x * w), int(lm.y * h)\n",
        "                if x > x_max:\n",
        "                    x_max = x\n",
        "                if x < x_min:\n",
        "                    x_min = x\n",
        "                if y > y_max:\n",
        "                    y_max = y\n",
        "                if y < y_min:\n",
        "                    y_min = y\n",
        "            y_min -= 20\n",
        "            y_max += 20\n",
        "            x_min -= 20\n",
        "            x_max += 20\n",
        "            cv2.rectangle(frame, (x_min, y_min), (x_max, y_max), (0, 255, 0), 2)\n",
        "            mp_drawing.draw_landmarks(frame, handLMs, mphands.HAND_CONNECTIONS)\n",
        "    cv2.imshow(\"Frame\", frame)\n",
        "\n",
        "cap.release()\n",
        "cv2.destroyAllWindows()"
      ],
      "metadata": {
        "id": "db6XF4oDrjSX"
      },
      "execution_count": null,
      "outputs": []
    },
    {
      "cell_type": "code",
      "source": [
        "while True:\n",
        "    _, frame = cap.read()\n",
        "\n",
        "    k = cv2.waitKey(1)\n",
        "    if k%256 == 27:\n",
        "        # ESC pressed\n",
        "        print(\"Escape hit, closing...\")\n",
        "        break\n",
        "    elif k%256 == 32:\n",
        "        # SPACE pressed\n",
        "        # SPACE pressed\n",
        "        analysisframe = frame\n",
        "        showframe = analysisframe\n",
        "        cv2.imshow(\"Frame\", showframe)\n",
        "        framergbanalysis = cv2.cvtColor(analysisframe, cv2.COLOR_BGR2RGB)\n",
        "        resultanalysis = hands.process(framergbanalysis)\n",
        "        hand_landmarksanalysis = resultanalysis.multi_hand_landmarks\n",
        "        if hand_landmarksanalysis:\n",
        "            for handLMsanalysis in hand_landmarksanalysis:\n",
        "                x_max = 0\n",
        "                y_max = 0\n",
        "                x_min = w\n",
        "                y_min = h\n",
        "                for lmanalysis in handLMsanalysis.landmark:\n",
        "                    x, y = int(lmanalysis.x * w), int(lmanalysis.y * h)\n",
        "                    if x > x_max:\n",
        "                        x_max = x\n",
        "                    if x < x_min:\n",
        "                        x_min = x\n",
        "                    if y > y_max:\n",
        "                        y_max = y\n",
        "                    if y < y_min:\n",
        "                        y_min = y\n",
        "                y_min -= 20\n",
        "                y_max += 20\n",
        "                x_min -= 20\n",
        "                x_max += 20\n",
        "\n",
        "        analysisframe = cv2.cvtColor(analysisframe, cv2.COLOR_BGR2GRAY)\n",
        "        analysisframe = analysisframe[y_min:y_max, x_min:x_max]\n",
        "        analysisframe = cv2.resize(analysisframe,(28,28))\n",
        "\n",
        "\n",
        "        nlist = []\n",
        "        rows,cols = analysisframe.shape\n",
        "        for i in range(rows):\n",
        "            for j in range(cols):\n",
        "                k = analysisframe[i,j]\n",
        "                nlist.append(k)\n",
        "\n",
        "        datan = pd.DataFrame(nlist).T\n",
        "        colname = []\n",
        "        for val in range(784):\n",
        "            colname.append(val)\n",
        "        datan.columns = colname\n",
        "\n",
        "        pixeldata = datan.values\n",
        "        pixeldata = pixeldata / 255\n",
        "        pixeldata = pixeldata.reshape(-1,28,28,1)"
      ],
      "metadata": {
        "colab": {
          "base_uri": "https://localhost:8080/",
          "height": 245
        },
        "id": "Ss_-N0ObrqGS",
        "outputId": "a66b97b1-10df-4cf7-a1f8-9ddb53f3ed21"
      },
      "execution_count": 2,
      "outputs": [
        {
          "output_type": "error",
          "ename": "NameError",
          "evalue": "ignored",
          "traceback": [
            "\u001b[0;31m---------------------------------------------------------------------------\u001b[0m",
            "\u001b[0;31mNameError\u001b[0m                                 Traceback (most recent call last)",
            "\u001b[0;32m<ipython-input-2-e341a96c0903>\u001b[0m in \u001b[0;36m<cell line: 1>\u001b[0;34m()\u001b[0m\n\u001b[1;32m      1\u001b[0m \u001b[0;32mwhile\u001b[0m \u001b[0;32mTrue\u001b[0m\u001b[0;34m:\u001b[0m\u001b[0;34m\u001b[0m\u001b[0;34m\u001b[0m\u001b[0m\n\u001b[0;32m----> 2\u001b[0;31m     \u001b[0m_\u001b[0m\u001b[0;34m,\u001b[0m \u001b[0mframe\u001b[0m \u001b[0;34m=\u001b[0m \u001b[0mcap\u001b[0m\u001b[0;34m.\u001b[0m\u001b[0mread\u001b[0m\u001b[0;34m(\u001b[0m\u001b[0;34m)\u001b[0m\u001b[0;34m\u001b[0m\u001b[0;34m\u001b[0m\u001b[0m\n\u001b[0m\u001b[1;32m      3\u001b[0m \u001b[0;34m\u001b[0m\u001b[0m\n\u001b[1;32m      4\u001b[0m     \u001b[0mk\u001b[0m \u001b[0;34m=\u001b[0m \u001b[0mcv2\u001b[0m\u001b[0;34m.\u001b[0m\u001b[0mwaitKey\u001b[0m\u001b[0;34m(\u001b[0m\u001b[0;36m1\u001b[0m\u001b[0;34m)\u001b[0m\u001b[0;34m\u001b[0m\u001b[0;34m\u001b[0m\u001b[0m\n\u001b[1;32m      5\u001b[0m     \u001b[0;32mif\u001b[0m \u001b[0mk\u001b[0m\u001b[0;34m%\u001b[0m\u001b[0;36m256\u001b[0m \u001b[0;34m==\u001b[0m \u001b[0;36m27\u001b[0m\u001b[0;34m:\u001b[0m\u001b[0;34m\u001b[0m\u001b[0;34m\u001b[0m\u001b[0m\n",
            "\u001b[0;31mNameError\u001b[0m: name 'cap' is not defined"
          ]
        }
      ]
    },
    {
      "cell_type": "code",
      "source": [
        "prediction = model.predict(pixeldata)\n",
        "predarray = np.array(prediction[0])\n",
        "letter_prediction_dict = {letterpred[i]: predarray[i] for i in range(len(letterpred))}\n",
        "predarrayordered = sorted(predarray, reverse=True)\n",
        "high1 = predarrayordered[0]\n",
        "high2 = predarrayordered[1]\n",
        "high3 = predarrayordered[2]\n",
        "for key,value in letter_prediction_dict.items():\n",
        "    if value==high1:\n",
        "        print(\"Predicted Character 1: \", key)\n",
        "        print('Confidence 1: ', 100*value)\n",
        "    elif value==high2:\n",
        "        print(\"Predicted Character 2: \", key)\n",
        "        print('Confidence 2: ', 100*value)\n",
        "    elif value==high3:\n",
        "        print(\"Predicted Character 3: \", key)\n",
        "        print('Confidence 3: ', 100*value)\n",
        "time.sleep(5)"
      ],
      "metadata": {
        "id": "lR46lZEQry5v"
      },
      "execution_count": null,
      "outputs": []
    },
    {
      "cell_type": "code",
      "source": [],
      "metadata": {
        "id": "o8Mvpx0kr1rF"
      },
      "execution_count": null,
      "outputs": []
    }
  ]
}